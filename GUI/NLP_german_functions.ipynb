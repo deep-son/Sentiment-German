{
 "cells": [
  {
   "cell_type": "code",
   "execution_count": null,
   "metadata": {
    "colab": {
     "base_uri": "https://localhost:8080/",
     "height": 35
    },
    "colab_type": "code",
    "executionInfo": {
     "elapsed": 1151,
     "status": "ok",
     "timestamp": 1585428694123,
     "user": {
      "displayName": "Deepanshu sonparote",
      "photoUrl": "",
      "userId": "04124608175645099088"
     },
     "user_tz": -330
    },
    "id": "EuSpY-l85Q7Z",
    "outputId": "9c6b5a08-5f78-4b53-dc6f-374212c50f57"
   },
   "outputs": [],
   "source": [
    " "
   ]
  },
  {
   "cell_type": "code",
   "execution_count": 29,
   "metadata": {},
   "outputs": [
    {
     "name": "stdout",
     "output_type": "stream",
     "text": [
      "Collecting scikit-learn==0.22.2\n",
      "  Downloading scikit_learn-0.22.2-cp36-cp36m-win_amd64.whl (6.5 MB)\n",
      "Requirement already satisfied: scipy>=0.17.0 in c:\\users\\deepanshu sonparote\\anaconda3\\lib\\site-packages (from scikit-learn==0.22.2) (1.0.0)\n",
      "Requirement already satisfied: joblib>=0.11 in c:\\users\\deepanshu sonparote\\anaconda3\\lib\\site-packages (from scikit-learn==0.22.2) (0.14.1)\n",
      "Requirement already satisfied: numpy>=1.11.0 in c:\\users\\deepanshu sonparote\\appdata\\roaming\\python\\python36\\site-packages (from scikit-learn==0.22.2) (1.17.2)\n",
      "Installing collected packages: scikit-learn\n",
      "  Attempting uninstall: scikit-learn\n",
      "    Found existing installation: scikit-learn 0.22\n",
      "    Uninstalling scikit-learn-0.22:\n",
      "      Successfully uninstalled scikit-learn-0.22\n",
      "Successfully installed scikit-learn-0.22.2\n"
     ]
    }
   ],
   "source": [
    "!pip install --user scikit-learn==0.22.2"
   ]
  },
  {
   "cell_type": "code",
   "execution_count": 1,
   "metadata": {
    "colab": {
     "base_uri": "https://localhost:8080/",
     "height": 1000
    },
    "colab_type": "code",
    "executionInfo": {
     "elapsed": 16143,
     "status": "ok",
     "timestamp": 1585431832503,
     "user": {
      "displayName": "Deepanshu sonparote",
      "photoUrl": "",
      "userId": "04124608175645099088"
     },
     "user_tz": -330
    },
    "id": "MATwTAFm6GUI",
    "outputId": "9fe1c70c-f7d9-45a6-cee6-31c8f525775c"
   },
   "outputs": [
    {
     "name": "stderr",
     "output_type": "stream",
     "text": [
      "C:\\Users\\DEEPANSHU SONPAROTE\\AppData\\Roaming\\Python\\Python36\\site-packages\\tensorflow\\python\\framework\\dtypes.py:516: FutureWarning: Passing (type, 1) or '1type' as a synonym of type is deprecated; in a future version of numpy, it will be understood as (type, (1,)) / '(1,)type'.\n",
      "  _np_qint8 = np.dtype([(\"qint8\", np.int8, 1)])\n",
      "C:\\Users\\DEEPANSHU SONPAROTE\\AppData\\Roaming\\Python\\Python36\\site-packages\\tensorflow\\python\\framework\\dtypes.py:517: FutureWarning: Passing (type, 1) or '1type' as a synonym of type is deprecated; in a future version of numpy, it will be understood as (type, (1,)) / '(1,)type'.\n",
      "  _np_quint8 = np.dtype([(\"quint8\", np.uint8, 1)])\n",
      "C:\\Users\\DEEPANSHU SONPAROTE\\AppData\\Roaming\\Python\\Python36\\site-packages\\tensorflow\\python\\framework\\dtypes.py:518: FutureWarning: Passing (type, 1) or '1type' as a synonym of type is deprecated; in a future version of numpy, it will be understood as (type, (1,)) / '(1,)type'.\n",
      "  _np_qint16 = np.dtype([(\"qint16\", np.int16, 1)])\n",
      "C:\\Users\\DEEPANSHU SONPAROTE\\AppData\\Roaming\\Python\\Python36\\site-packages\\tensorflow\\python\\framework\\dtypes.py:519: FutureWarning: Passing (type, 1) or '1type' as a synonym of type is deprecated; in a future version of numpy, it will be understood as (type, (1,)) / '(1,)type'.\n",
      "  _np_quint16 = np.dtype([(\"quint16\", np.uint16, 1)])\n",
      "C:\\Users\\DEEPANSHU SONPAROTE\\AppData\\Roaming\\Python\\Python36\\site-packages\\tensorflow\\python\\framework\\dtypes.py:520: FutureWarning: Passing (type, 1) or '1type' as a synonym of type is deprecated; in a future version of numpy, it will be understood as (type, (1,)) / '(1,)type'.\n",
      "  _np_qint32 = np.dtype([(\"qint32\", np.int32, 1)])\n",
      "C:\\Users\\DEEPANSHU SONPAROTE\\AppData\\Roaming\\Python\\Python36\\site-packages\\tensorflow\\python\\framework\\dtypes.py:525: FutureWarning: Passing (type, 1) or '1type' as a synonym of type is deprecated; in a future version of numpy, it will be understood as (type, (1,)) / '(1,)type'.\n",
      "  np_resource = np.dtype([(\"resource\", np.ubyte, 1)])\n",
      "C:\\Users\\DEEPANSHU SONPAROTE\\Anaconda3\\lib\\site-packages\\h5py\\__init__.py:36: FutureWarning: Conversion of the second argument of issubdtype from `float` to `np.floating` is deprecated. In future, it will be treated as `np.float64 == np.dtype(float).type`.\n",
      "  from ._conv import register_converters as _register_converters\n",
      "C:\\Users\\DEEPANSHU SONPAROTE\\AppData\\Roaming\\Python\\Python36\\site-packages\\tensorboard\\compat\\tensorflow_stub\\dtypes.py:541: FutureWarning: Passing (type, 1) or '1type' as a synonym of type is deprecated; in a future version of numpy, it will be understood as (type, (1,)) / '(1,)type'.\n",
      "  _np_qint8 = np.dtype([(\"qint8\", np.int8, 1)])\n",
      "C:\\Users\\DEEPANSHU SONPAROTE\\AppData\\Roaming\\Python\\Python36\\site-packages\\tensorboard\\compat\\tensorflow_stub\\dtypes.py:542: FutureWarning: Passing (type, 1) or '1type' as a synonym of type is deprecated; in a future version of numpy, it will be understood as (type, (1,)) / '(1,)type'.\n",
      "  _np_quint8 = np.dtype([(\"quint8\", np.uint8, 1)])\n",
      "C:\\Users\\DEEPANSHU SONPAROTE\\AppData\\Roaming\\Python\\Python36\\site-packages\\tensorboard\\compat\\tensorflow_stub\\dtypes.py:543: FutureWarning: Passing (type, 1) or '1type' as a synonym of type is deprecated; in a future version of numpy, it will be understood as (type, (1,)) / '(1,)type'.\n",
      "  _np_qint16 = np.dtype([(\"qint16\", np.int16, 1)])\n",
      "C:\\Users\\DEEPANSHU SONPAROTE\\AppData\\Roaming\\Python\\Python36\\site-packages\\tensorboard\\compat\\tensorflow_stub\\dtypes.py:544: FutureWarning: Passing (type, 1) or '1type' as a synonym of type is deprecated; in a future version of numpy, it will be understood as (type, (1,)) / '(1,)type'.\n",
      "  _np_quint16 = np.dtype([(\"quint16\", np.uint16, 1)])\n",
      "C:\\Users\\DEEPANSHU SONPAROTE\\AppData\\Roaming\\Python\\Python36\\site-packages\\tensorboard\\compat\\tensorflow_stub\\dtypes.py:545: FutureWarning: Passing (type, 1) or '1type' as a synonym of type is deprecated; in a future version of numpy, it will be understood as (type, (1,)) / '(1,)type'.\n",
      "  _np_qint32 = np.dtype([(\"qint32\", np.int32, 1)])\n",
      "C:\\Users\\DEEPANSHU SONPAROTE\\AppData\\Roaming\\Python\\Python36\\site-packages\\tensorboard\\compat\\tensorflow_stub\\dtypes.py:550: FutureWarning: Passing (type, 1) or '1type' as a synonym of type is deprecated; in a future version of numpy, it will be understood as (type, (1,)) / '(1,)type'.\n",
      "  np_resource = np.dtype([(\"resource\", np.ubyte, 1)])\n"
     ]
    },
    {
     "name": "stdout",
     "output_type": "stream",
     "text": [
      "TensorFlow Version: 1.14.0\n"
     ]
    }
   ],
   "source": [
    "# !pip install tensorflow==1.1.0\n",
    "\n",
    "# !python -m spacy download de\n",
    "import nltk\n",
    "# nltk.download('punkt')\n",
    "import tensorflow as tf\n",
    "import pickle\n",
    "import os\n",
    "import pandas as pd\n",
    "from sklearn.feature_extraction.text import CountVectorizer,TfidfVectorizer\n",
    "from sklearn.base import TransformerMixin\n",
    "from sklearn.pipeline import Pipeline \n",
    "import string\n",
    "import spacy\n",
    "from spacy.lang.de.stop_words import STOP_WORDS\n",
    "from spacy.lang.de import German\n",
    "import re\n",
    "import numpy as np\n",
    "\n",
    "print('TensorFlow Version: {}'.format(tf.__version__))"
   ]
  },
  {
   "cell_type": "code",
   "execution_count": 0,
   "metadata": {
    "colab": {},
    "colab_type": "code",
    "id": "B45Fp3B8DCmy"
   },
   "outputs": [],
   "source": []
  },
  {
   "cell_type": "code",
   "execution_count": 2,
   "metadata": {
    "colab": {},
    "colab_type": "code",
    "id": "zMeHZ-iVxumx"
   },
   "outputs": [],
   "source": [
    "# TEXT SUMMARIZATION FUNCTION\n",
    "def summary_func():\n",
    "    input_sentence = textName1.get()\n",
    "    batch_size = 64\n",
    "    with open('vocabdict','rb') as f:\n",
    "        vocab_to_int = pickle.load(f)\n",
    "\n",
    "    with open('intdict','rb') as f:\n",
    "        int_to_vocab = pickle.load(f)\n",
    "\n",
    "    def clean_text(text):\n",
    "      '''Remove unwanted characters, stopwords, and format the text to create fewer nulls word embeddings'''\n",
    "\n",
    "      # Convert words to lower case\n",
    "      text = text.lower()\n",
    "\n",
    "      # Format words and remove unwanted characters\n",
    "      text = re.sub(r'https?:\\/\\/.*[\\r\\n]*', '', text, flags=re.MULTILINE)\n",
    "      text = re.sub(r'\\<a href', ' ', text)\n",
    "      text = re.sub(r'&amp;', '', text) \n",
    "      text = re.sub(r'[_\"\\-;%()|+&=*%.,!?:#$@\\[\\]/]', ' ', text)\n",
    "      text = re.sub(r'<br />', ' ', text)\n",
    "      text = re.sub(r'\\'', ' ', text)\n",
    "      return text\n",
    "\n",
    "    def text_to_seq(text):\n",
    "      '''Prepare the text for the model'''\n",
    "      with open('vocabdict','rb') as f:\n",
    "        vocab_to_int = pickle.load(f)\n",
    "\n",
    "      text = clean_text(text)\n",
    "      return [vocab_to_int.get(word, vocab_to_int['<UNK>']) for word in text.split()]\n",
    "\n",
    "    text = text_to_seq(input_sentence)\n",
    "    checkpoint = \"./best_model.ckpt\"\n",
    "\n",
    "    loaded_graph = tf.Graph()\n",
    "    with tf.Session(graph=loaded_graph) as sess:\n",
    "      # Load saved model\n",
    "      loader = tf.train.import_meta_graph(checkpoint + '.meta')\n",
    "      loader.restore(sess, checkpoint)\n",
    "\n",
    "      input_data = loaded_graph.get_tensor_by_name('input:0')\n",
    "      logits = loaded_graph.get_tensor_by_name('predictions:0')\n",
    "      text_length = loaded_graph.get_tensor_by_name('text_length:0')\n",
    "      summary_length = loaded_graph.get_tensor_by_name('summary_length:0')\n",
    "      keep_prob = loaded_graph.get_tensor_by_name('keep_prob:0')\n",
    "\n",
    "      #Multiply by batch_size to match the model's input parameters\n",
    "      answer_logits = sess.run(logits, {input_data: [text]*batch_size, \n",
    "                                        summary_length: [np.random.randint(5,8)], \n",
    "                                        text_length: [len(text)]*batch_size,\n",
    "                                        keep_prob: 1.0})[0] \n",
    "\n",
    "    # Remove the padding from the tweet\n",
    "    pad = vocab_to_int[\"<PAD>\"] \n",
    "    textName2.insert(0,\" \".join([int_to_vocab[i] for i in answer_logits if i != pad]))\n"
   ]
  },
  {
   "cell_type": "code",
   "execution_count": 3,
   "metadata": {
    "colab": {
     "base_uri": "https://localhost:8080/",
     "height": 35
    },
    "colab_type": "code",
    "executionInfo": {
     "elapsed": 3556,
     "status": "ok",
     "timestamp": 1585431997254,
     "user": {
      "displayName": "Deepanshu sonparote",
      "photoUrl": "",
      "userId": "04124608175645099088"
     },
     "user_tz": -330
    },
    "id": "AYdDezI_HAXj",
    "outputId": "ddf60da8-ce9f-4923-c4de-c89125ed7a5d"
   },
   "outputs": [
    {
     "name": "stderr",
     "output_type": "stream",
     "text": [
      "C:\\Users\\DEEPANSHU SONPAROTE\\AppData\\Roaming\\Python\\Python36\\site-packages\\sklearn\\base.py:318: UserWarning: Trying to unpickle estimator CountVectorizer from version 0.22.2.post1 when using version 0.22.2. This might lead to breaking code or invalid results. Use at your own risk.\n",
      "  UserWarning)\n",
      "C:\\Users\\DEEPANSHU SONPAROTE\\AppData\\Roaming\\Python\\Python36\\site-packages\\sklearn\\base.py:318: UserWarning: Trying to unpickle estimator LogisticRegression from version 0.22.2.post1 when using version 0.22.2. This might lead to breaking code or invalid results. Use at your own risk.\n",
      "  UserWarning)\n",
      "C:\\Users\\DEEPANSHU SONPAROTE\\AppData\\Roaming\\Python\\Python36\\site-packages\\sklearn\\base.py:318: UserWarning: Trying to unpickle estimator Pipeline from version 0.22.2.post1 when using version 0.22.2. This might lead to breaking code or invalid results. Use at your own risk.\n",
      "  UserWarning)\n"
     ]
    }
   ],
   "source": [
    "\n",
    "from sklearn.linear_model import LogisticRegression\n",
    "classifier = LogisticRegression()\n",
    "\n",
    "punctuations = string.punctuation\n",
    "nlp = spacy.load('de_core_news_sm')\n",
    "stop_words = spacy.lang.de.stop_words.STOP_WORDS\n",
    "parser = German()\n",
    "\n",
    "def spacy_tokenizer(sentence):\n",
    "    mytokens = parser(sentence)\n",
    "    mytokens = [ word.lemma_.lower().strip() if word.lemma_ != \"-PRON-\" else word.lower_ for word in mytokens ]\n",
    "    mytokens = [ word for word in mytokens if word not in stop_words and word not in punctuations ]\n",
    "    return mytokens\n",
    "\n",
    "class predictors(TransformerMixin):\n",
    "    def transform(self, X, **transform_params): \n",
    "        return [clean_text(text) for text in X]\n",
    "\n",
    "    def fit(self, X, y=None, **fit_params):\n",
    "        return self\n",
    "\n",
    "    def get_params(self, deep=True):\n",
    "        return {}\n",
    "\n",
    "def clean_text(text):\n",
    "    return text.strip().lower()\n",
    "\n",
    "with open('logistic_sentiment','rb') as f:\n",
    "    pipe_log = pickle.load(f)"
   ]
  },
  {
   "cell_type": "code",
   "execution_count": 7,
   "metadata": {
    "colab": {},
    "colab_type": "code",
    "id": "ZynHuDJPBwrz"
   },
   "outputs": [],
   "source": [
    "def sentiment_func():\n",
    "    input_sentence = textName3.get()\n",
    "\n",
    "    k = pipe_log.predict([input_sentence])\n",
    "    textName4.delete(0,END) \n",
    "    textName4.insert(0,str(k[0]))\n"
   ]
  },
  {
   "cell_type": "code",
   "execution_count": null,
   "metadata": {
    "colab": {
     "base_uri": "https://localhost:8080/",
     "height": 53
    },
    "colab_type": "code",
    "executionInfo": {
     "elapsed": 7091,
     "status": "ok",
     "timestamp": 1585432015547,
     "user": {
      "displayName": "Deepanshu sonparote",
      "photoUrl": "",
      "userId": "04124608175645099088"
     },
     "user_tz": -330
    },
    "id": "i1bSKdnh3RM1",
    "outputId": "ff68e1b5-a58a-4292-99fe-ea9d40da397f"
   },
   "outputs": [],
   "source": []
  },
  {
   "cell_type": "code",
   "execution_count": null,
   "metadata": {
    "colab": {
     "base_uri": "https://localhost:8080/",
     "height": 35
    },
    "colab_type": "code",
    "executionInfo": {
     "elapsed": 1134,
     "status": "ok",
     "timestamp": 1585427972128,
     "user": {
      "displayName": "Deepanshu sonparote",
      "photoUrl": "",
      "userId": "04124608175645099088"
     },
     "user_tz": -330
    },
    "id": "Zpf6UGdBzrNL",
    "outputId": "8cfc990b-fb68-40f6-d986-d7e7c72c9f8c"
   },
   "outputs": [],
   "source": []
  },
  {
   "cell_type": "code",
   "execution_count": 8,
   "metadata": {
    "colab": {
     "base_uri": "https://localhost:8080/",
     "height": 410
    },
    "colab_type": "code",
    "executionInfo": {
     "elapsed": 1239,
     "status": "error",
     "timestamp": 1585432554189,
     "user": {
      "displayName": "Deepanshu sonparote",
      "photoUrl": "",
      "userId": "04124608175645099088"
     },
     "user_tz": -330
    },
    "id": "Ie1yesaE3mCj",
    "outputId": "beaa2f76-8a78-465a-b831-25edf61ba0d2"
   },
   "outputs": [],
   "source": [
    "'''\n",
    "GUI -> 2Sections:\n",
    "1) Big Text to Summarized Text Converter\n",
    "2) Text Sentiment Analyser\n",
    "3)\n",
    "\n",
    "'''\n",
    "\n",
    "from ttkthemes import themed_tk as tk\n",
    "from tkinter import *\n",
    "from tkinter import filedialog, ttk\n",
    "from PIL import ImageTk,Image\n",
    "from tkinter import messagebox\n",
    "\n",
    "root = tk.ThemedTk()\n",
    "root.get_themes()\n",
    "root.set_theme('breeze')\n",
    "\n",
    "windowWidth = 600\n",
    "windowHeight = 300\n",
    "positionRight = int(root.winfo_screenwidth() / 2 - windowWidth / 2)\n",
    "positionDown = int(root.winfo_screenheight() / 2 - windowHeight / 2)\n",
    "\n",
    "inputVar = StringVar()\n",
    "inputVar.set('Loremaaaaadvscvascikchasnoilasconsoiclnsilcnsaocnlunsocilasnclijscionscousjncasicadskubciuascahoisabnuioch')\n",
    "\n",
    "class Page(ttk.Frame):\n",
    "    def __init__(self, *args, **kwargs):\n",
    "        ttk.Frame.__init__(self, *args, **kwargs)\n",
    "    def show(self):\n",
    "        self.lift()\n",
    "\n",
    "class Page1(Page):\n",
    "    \n",
    "    def __init__(self, *args, **kwargs):\n",
    "        Page.__init__(self, *args, **kwargs)\n",
    "        try:\n",
    "            im = Image.open(\"media/amz.png\")\n",
    "            # im = im.convert(\"RGBA\")\n",
    "            # im = im.resize((600, 100))\n",
    "            photo = ImageTk.PhotoImage(im)\n",
    "\n",
    "            logo = Label(self, image=photo)\n",
    "            logo.image = photo  # keep a reference!\n",
    "            logo.pack()\n",
    "        except:\n",
    "            messagebox.showerror(\"Error\", 'Resource Missing.\\nThe software will quit once you click the button')\n",
    "            global root\n",
    "            root.destroy()\n",
    "            return\n",
    "\n",
    "        X = 40\n",
    "        Y = 60\n",
    "        global textName1, textName2\n",
    "        MainLabel = ttk.Label(self, text = 'Summarize Text', width = 170, font = \"Helvetica 24 bold\", anchor=\"center\").pack(side=TOP)\n",
    "\n",
    "        Y = Y + 40\n",
    "\n",
    "        labelName1 = ttk.Label(self, text = 'Enter Paragraph', width = 15, justify = RIGHT, anchor = 'e')\n",
    "        labelName1.place(x = X, y = Y)\n",
    "\n",
    "        textName1 = ttk.Entry(self, width=40)\n",
    "        textName1.place(x = X + 120, y = Y)\n",
    "\n",
    "        Y = Y + 40\n",
    "        buttonBrowse1 = ttk.Button(self, text = \"Summarize\", command =summary_func)\n",
    "        buttonBrowse1.place(x = X + 200, y = Y + 2)\n",
    "\n",
    "        Y = Y + 60\n",
    "\n",
    "        labelName1 = ttk.Label(self, text = 'Summary', width = 15, justify = RIGHT, anchor = 'e')\n",
    "        labelName1.place(x = X, y = Y)\n",
    "\n",
    "        textName2 = ttk.Entry(self,  width=40)\n",
    "        textName2.place(x = X + 120, y = Y)\n",
    "        \n",
    "\n",
    "\n",
    "\n",
    "class Page2(Page):\n",
    "    def __init__(self, *args, **kwargs):\n",
    "        Page.__init__(self, *args, **kwargs)\n",
    "\n",
    "        try:\n",
    "            im = Image.open(\"media/amz.png\")\n",
    "            # im = im.convert(\"RGBA\")\n",
    "            # im = im.resize((600, 100))\n",
    "            photo = ImageTk.PhotoImage(im)\n",
    "\n",
    "            logo = Label(self, image=photo)\n",
    "            logo.image = photo  # keep a reference!\n",
    "            logo.pack()\n",
    "        except:\n",
    "            messagebox.showerror(\"Error\", 'Resource Missing.\\nThe software will quit once you click the button')\n",
    "            global root\n",
    "            root.destroy()\n",
    "            return\n",
    "\n",
    "        X = 40\n",
    "        Y = 60\n",
    "        global textName3, textName4\n",
    "        MainLabel = ttk.Label(self, text = 'Sentiment Analysis', width = 200, font = \"Helvetica 24 bold\", anchor=\"center\").pack()\n",
    "\n",
    "        Y = Y + 40\n",
    "\n",
    "        labelName1 = ttk.Label(self, text = 'Enter Sentence', width = 15, justify = LEFT, anchor = 'e')\n",
    "        labelName1.place(x = X, y = Y)\n",
    "        textName3 = ttk.Entry(self, width=40)\n",
    "        textName3.place(x = X + 120, y = Y)\n",
    "\n",
    "        Y = Y + 40\n",
    "        buttonBrowse1 = ttk.Button(self, text = \"Analyse\", command =sentiment_func)\n",
    "        buttonBrowse1.place(x = X + 200, y = Y + 2)\n",
    "\n",
    "        Y = Y + 60\n",
    "\n",
    "        labelName1 = ttk.Label(self, text = 'Sentiment', width = 15, justify = LEFT, anchor = 'e')\n",
    "        labelName1.place(x = X, y = Y)\n",
    "\n",
    "        textName4 = ttk.Entry(self, width=40)\n",
    "        textName4.place(x = X + 120, y = Y)\n",
    "\n",
    "# class Page3(Page):\n",
    "#     def __init__(self, *args, **kwargs):\n",
    "#         Page.__init__(self, *args, **kwargs)\n",
    "\n",
    "\n",
    "class MainView(Frame):\n",
    "    def __init__(self, *args, **kwargs):\n",
    "        Frame.__init__(self, *args, **kwargs)\n",
    "        p1 = Page1(self)\n",
    "        p2 = Page2(self)\n",
    "        # p3 = Page3(self)\n",
    "\n",
    "        buttonframe = ttk.Frame(self)\n",
    "        container = ttk.Frame(self)\n",
    "        buttonframe.pack(side= LEFT, fill=\"both\", expand=False)\n",
    "        container.pack(side=LEFT, fill=\"both\", expand=True)\n",
    "\n",
    "        p1.place(in_=container, x=0, y=0, relwidth=1, relheight=1)\n",
    "        p2.place(in_=container, x=0, y=0, relwidth=1, relheight=1)\n",
    "        # p3.place(in_=container, x=0, y=0, relwidth=1, relheight=1)\n",
    "\n",
    "        b1 = ttk.Button(buttonframe, text=\"Summarize\", command=p1.lift)\n",
    "        # b1.config(bd=5, relief=RAISED)\n",
    "        b2 = ttk.Button(buttonframe, text=\"Analyse\", command=p2.lift)\n",
    "        # b2.config(bd=5, relief=RAISED)\n",
    "        # b3 = Button(buttonframe, text=\"Page 3\", command=p3.lift)\n",
    "        # b3.config(bd=5, relief=RAISED)\n",
    "\n",
    "        b1.pack(side = TOP, expand = True, fill = BOTH)\n",
    "        b2.pack(side = TOP, expand = True, fill = BOTH)\n",
    "        # b3.pack(side = TOP, expand = True, fill = BOTH)\n",
    "\n",
    "        p1.show()\n",
    "\n",
    "def main_function():\n",
    "    main = MainView(root)\n",
    "\n",
    "    # Gets the requested values of the height and widht.\n",
    "\n",
    "    main.pack(side=\"top\", fill=\"both\", expand=True)\n",
    "\n",
    "    root.title('Sentiment Analyis on Abstractive Summarization')\n",
    "    root.geometry(\"{}x{}+{}+{}\".format(windowWidth, windowHeight, positionRight, positionDown))\n",
    "\n",
    "\n",
    "    root.mainloop()\n",
    "\n",
    "if __name__ == \"__main__\":\n",
    "\n",
    "    main = MainView(root)\n",
    "\n",
    "    # Gets the requested values of the height and widht.\n",
    "\n",
    "    main.pack(side=\"top\", fill=\"both\", expand=True)\n",
    "\n",
    "    root.title('Sentiment Analyis on Abstractive Summarization')\n",
    "    root.geometry(\"{}x{}+{}+{}\".format(windowWidth, windowHeight, positionRight, positionDown))\n",
    "    root.resizable(False, False)\n",
    "\n",
    "    root.mainloop()"
   ]
  },
  {
   "cell_type": "code",
   "execution_count": 19,
   "metadata": {
    "colab": {
     "base_uri": "https://localhost:8080/",
     "height": 106
    },
    "colab_type": "code",
    "executionInfo": {
     "elapsed": 6019,
     "status": "ok",
     "timestamp": 1585432545730,
     "user": {
      "displayName": "Deepanshu sonparote",
      "photoUrl": "",
      "userId": "04124608175645099088"
     },
     "user_tz": -330
    },
    "id": "SCSaEe8HHeTJ",
    "outputId": "3b9247af-f73e-46ed-9757-1a9be328e145"
   },
   "outputs": [
    {
     "name": "stdout",
     "output_type": "stream",
     "text": [
      "Reading package lists... Done\n",
      "Building dependency tree       \n",
      "Reading state information... Done\n",
      "python3-tk is already the newest version (3.6.9-1~18.04).\n",
      "0 upgraded, 0 newly installed, 0 to remove and 25 not upgraded.\n"
     ]
    }
   ],
   "source": []
  },
  {
   "cell_type": "code",
   "execution_count": 3,
   "metadata": {
    "colab": {},
    "colab_type": "code",
    "id": "suSeUxBvI2t8"
   },
   "outputs": [
    {
     "name": "stdout",
     "output_type": "stream",
     "text": [
      "Collecting ttkthemes\n",
      "  Downloading ttkthemes-3.0.0.tar.gz (809 kB)\n",
      "Requirement already satisfied: pillow in c:\\users\\deepanshu sonparote\\anaconda3\\lib\\site-packages (from ttkthemes) (5.0.0)\n",
      "Building wheels for collected packages: ttkthemes\n",
      "  Building wheel for ttkthemes (setup.py): started\n",
      "  Building wheel for ttkthemes (setup.py): finished with status 'done'\n",
      "  Created wheel for ttkthemes: filename=ttkthemes-3.0.0-cp36-cp36m-win_amd64.whl size=1784119 sha256=238620f246733a5579d6987e7cf7618d8965defd2cf9b47956195d0640115b3d\n",
      "  Stored in directory: c:\\users\\deepanshu sonparote\\appdata\\local\\pip\\cache\\wheels\\2b\\c1\\83\\25b49b153e06dd8d1516acc738adb4ecd078018cb20996f181\n",
      "Successfully built ttkthemes\n",
      "Installing collected packages: ttkthemes\n",
      "Successfully installed ttkthemes-3.0.0\n"
     ]
    }
   ],
   "source": [
    "!pip install ttkthemes"
   ]
  },
  {
   "cell_type": "code",
   "execution_count": null,
   "metadata": {},
   "outputs": [],
   "source": []
  }
 ],
 "metadata": {
  "colab": {
   "authorship_tag": "ABX9TyPraOz0o5OGaN/TV3GGkqZD",
   "mount_file_id": "1WVj-xAS7vnXiGaA7WKtT5O5tiTKvIvNv",
   "name": "NLP_german_functions.ipynb",
   "provenance": []
  },
  "kernelspec": {
   "display_name": "Python 3",
   "language": "python",
   "name": "python3"
  },
  "language_info": {
   "codemirror_mode": {
    "name": "ipython",
    "version": 3
   },
   "file_extension": ".py",
   "mimetype": "text/x-python",
   "name": "python",
   "nbconvert_exporter": "python",
   "pygments_lexer": "ipython3",
   "version": "3.6.4"
  }
 },
 "nbformat": 4,
 "nbformat_minor": 1
}
